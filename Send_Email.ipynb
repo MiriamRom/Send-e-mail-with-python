{
  "cells": [
    {
      "cell_type": "code",
      "execution_count": null,
      "metadata": {
        "id": "Meg9Qdoxqikt"
      },
      "outputs": [],
      "source": [
        "import pandas as pd\n",
        "import win32com.client as win32\n",
        "\n",
        "# Construct Outlook application instance\n",
        "Outlook = win32.Dispatch('Outlook.application')\n",
        "gmail = Outlook.Session.Accounts['main_mail@mail.com']\n",
        "\n",
        "#Construct the email item object\n",
        "mail = Outlook.CreateItem(0)\n",
        "mail.Subject = 'Regards' #Message subject\n",
        "mail.BodyFormat = 1\n",
        "mail.Body = \"Hi, \\n\\n I'hope you're doing great \\n\\n Best Regards.\" #'Message body'\n",
        "# mail.HTMLBody = 'This Body replaces the previous' # Opcional\n",
        "\n",
        "# Attach a hyperlink\n",
        "mail.HTMLBody = '''<p> Good Morning Team,</p>\n",
        "<p> Today’s update is now available, we annex the access:</p>  \n",
        "<p>Power BI: \n",
        "<a href = \"https://app.powerbi.com\"> BI - Dashboard </a>.</p>'''\n",
        "# Excel with the respective names and emails\n",
        "mails = pd.read_excel(r'C:\\Users\\Documentos\\Mails.xlsx')\n",
        "to_mails = ['first@mail.com', 'second@mail.com', 'third@mail.com']\n",
        "cc_mails = list(mails['Mail'])\n",
        "# mail.To = 'unique_mail@mail.com' # To unique address\n",
        "mail.To = ';'.join(to_mails) # To mailing list\n",
        "mail.CC = ';'.join(cc_mails)\n",
        "\n",
        "# To attach a file to the email:\n",
        "attachment  = r'C:\\Users\\Desktop\\Doc.txt' #Path to the attachment\n",
        "mail.Attachments.Add(attachment)\n",
        "\n",
        "mail._oleobj_.Invoke(*(64209,0,8,9,gmail))\n",
        "#mail.display() # Displays mail\n",
        "mail.Send()"
      ]
    },
    {
      "cell_type": "code",
      "execution_count": null,
      "metadata": {
        "id": "z9mSz1f_qiku"
      },
      "outputs": [],
      "source": [
        ""
      ]
    }
  ],
  "metadata": {
    "kernelspec": {
      "display_name": "Python 3",
      "language": "python",
      "name": "python3"
    },
    "language_info": {
      "codemirror_mode": {
        "name": "ipython",
        "version": 3
      },
      "file_extension": ".py",
      "mimetype": "text/x-python",
      "name": "python",
      "nbconvert_exporter": "python",
      "pygments_lexer": "ipython3",
      "version": "3.6.4"
    },
    "colab": {
      "name": "Send Email.ipynb",
      "provenance": [],
      "collapsed_sections": []
    }
  },
  "nbformat": 4,
  "nbformat_minor": 0
}